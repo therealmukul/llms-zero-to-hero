{
 "cells": [
  {
   "cell_type": "markdown",
   "id": "1eae78d8-7079-42f5-8f42-25896308d1ce",
   "metadata": {},
   "source": [
    "# Working with text data"
   ]
  },
  {
   "cell_type": "markdown",
   "id": "6de12720-b4b5-492d-8287-0fc644cc5962",
   "metadata": {},
   "source": [
    "Here we will look into:\n",
    "- Preparing text for LLM model training.\n",
    "- Splitting text into word and subword tokens.\n",
    "- Byte pair encoding.\n",
    "- Sampling training examples using a sliding window approach.\n",
    "- Converting tokens into vectors.\n",
    "\n",
    "For the purposes of learning we will work with the text of short story by Edith Wharton called \"The Verdict.\""
   ]
  },
  {
   "cell_type": "markdown",
   "id": "2882fea2-aff9-4e55-8e77-d6cfda0a1363",
   "metadata": {},
   "source": [
    "# Load data"
   ]
  },
  {
   "cell_type": "code",
   "execution_count": 1,
   "id": "f4ddeb3e-bd87-493a-b9ea-016da894e654",
   "metadata": {
    "ExecuteTime": {
     "end_time": "2024-06-29T20:37:59.313571Z",
     "start_time": "2024-06-29T20:37:59.156458Z"
    }
   },
   "outputs": [
    {
     "data": {
      "text/plain": [
       "('./data/the-verdict.txt', <http.client.HTTPMessage at 0x10654ed30>)"
      ]
     },
     "execution_count": 1,
     "metadata": {},
     "output_type": "execute_result"
    }
   ],
   "source": [
    "import urllib.request\n",
    "\n",
    "url = (\"https://raw.githubusercontent.com/rasbt/\"\n",
    "       \"LLMs-from-scratch/main/ch02/01_main-chapter-code/\"\n",
    "       \"the-verdict.txt\")\n",
    "urllib.request.urlretrieve(url, './data/the-verdict.txt')"
   ]
  },
  {
   "cell_type": "code",
   "execution_count": 10,
   "id": "bf39fcb9-e027-4424-8d78-ac6d9b2f747e",
   "metadata": {
    "ExecuteTime": {
     "end_time": "2024-06-29T20:56:17.447382Z",
     "start_time": "2024-06-29T20:56:17.442675Z"
    }
   },
   "outputs": [
    {
     "name": "stdout",
     "output_type": "stream",
     "text": [
      "Num characters: 20,479\n",
      "Num words: 3,552\n"
     ]
    }
   ],
   "source": [
    "# Read the file.\n",
    "\n",
    "with open('./data/the-verdict.txt', 'r', encoding='utf-8') as f_in:\n",
    "    raw_text = f_in.read()\n",
    "\n",
    "print(f'Num characters: {len(raw_text):,}')\n",
    "print(f'Num words: {len(raw_text.split(\" \")):,}')"
   ]
  },
  {
   "cell_type": "markdown",
   "id": "76814118-3b33-4e93-925e-c3bd643dbe0d",
   "metadata": {},
   "source": [
    "# Tokenizing text\n",
    "\n",
    "We cannot just feed raw words as input to the Transformer model. We need to first tokenize the text. Tokens are converted to embeddings which can be passed as input to the Transformer model.\n",
    "\n",
    "More specifically: `input text --> tokenized text --> token IDs --> token embeddings`\n",
    "\n",
    "Some key notes:\n",
    "- Its better to not modify the capitalization of text because it helps the LLM understand the differences between different kinds of nouns, understand sentence structure, and generate text with proper capitalization.\n",
    "- Simply splitting the text by word is not enough. We also want to separate out punctuation.\n",
    "- Whether not to remove whitespace characters is important decision to make. You probably don't want to do it in cases where the structure of the input matters. For example, python code."
   ]
  },
  {
   "cell_type": "code",
   "execution_count": 13,
   "id": "241b56e1-b669-4f79-9a22-980210da2348",
   "metadata": {
    "ExecuteTime": {
     "end_time": "2024-06-29T20:56:29.902711Z",
     "start_time": "2024-06-29T20:56:29.899936Z"
    }
   },
   "outputs": [],
   "source": [
    "import re\n",
    "\n",
    "class SimpleTokenizer:\n",
    "    def __init__(self, vocab: dict = None):\n",
    "        self.str_to_int = None\n",
    "        self.int_to_str = None\n",
    "        \n",
    "        if vocab:\n",
    "            self.str_to_int = vocab\n",
    "            self.int_to_str = {i:s for s,i in vocab.items()}\n",
    "        \n",
    "    def build_vocab(self, text: str) -> None:\n",
    "        exp = r'([,.:;?_!\"()\\']|--|\\s)'\n",
    "        res = re.split(exp, text)\n",
    "        res = [x for x in res if x.strip()]\n",
    "        tokens = sorted(set(res))\n",
    "        vocab = {token: i for i, token in enumerate(tokens)}\n",
    "        \n",
    "        self.str_to_int = vocab\n",
    "        self.int_to_str = {i:s for s,i in vocab.items()}\n",
    "        \n",
    "    def encode(self, text: str) -> list[int]:\n",
    "        \"\"\"Covert text to token ids.\"\"\"\n",
    "        exp = r'([,.:;?_!\"()\\']|--|\\s)'\n",
    "        res = re.split(exp, text)\n",
    "        res = [x for x in res if x.strip()]\n",
    "        ids = [self.str_to_int[i] for i in res]\n",
    "        \n",
    "        return ids\n",
    "    \n",
    "    def decode(self, ids: list[int]) -> str:\n",
    "        \"\"\"Convert token ids to text.\"\"\"\n",
    "        tokens = [self.int_to_str[i] for i in ids]\n",
    "        text = ' '.join(tokens)\n",
    "        text = re.sub(r'\\s+([,.?!\"()\\'])', r'\\1', text)\n",
    "        \n",
    "        return text\n",
    "        \n",
    "        "
   ]
  },
  {
   "cell_type": "code",
   "execution_count": 22,
   "id": "ef598eccb1d9a209",
   "metadata": {
    "ExecuteTime": {
     "end_time": "2024-06-29T21:00:18.105216Z",
     "start_time": "2024-06-29T21:00:18.102052Z"
    },
    "collapsed": false
   },
   "outputs": [
    {
     "name": "stdout",
     "output_type": "stream",
     "text": [
      "[56, 2, 850, 988, 602, 533, 746, 5, 1126, 596, 7]\n",
      "It' s the last he painted, you know.\n"
     ]
    }
   ],
   "source": [
    "tokenizer = SimpleTokenizer()\n",
    "tokenizer.build_vocab(raw_text)\n",
    "\n",
    "text = \"It's the last he painted, you know.\"\n",
    "ids = tokenizer.encode(text)\n",
    "print(ids)\n",
    "\n",
    "decoded_text = tokenizer.decode(ids)\n",
    "print(decoded_text)"
   ]
  }
 ],
 "metadata": {
  "kernelspec": {
   "display_name": "Python 3 (ipykernel)",
   "language": "python",
   "name": "python3"
  },
  "language_info": {
   "codemirror_mode": {
    "name": "ipython",
    "version": 3
   },
   "file_extension": ".py",
   "mimetype": "text/x-python",
   "name": "python",
   "nbconvert_exporter": "python",
   "pygments_lexer": "ipython3",
   "version": "3.10.14"
  }
 },
 "nbformat": 4,
 "nbformat_minor": 5
}
